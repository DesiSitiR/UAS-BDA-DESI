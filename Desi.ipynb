{
  "nbformat": 4,
  "nbformat_minor": 0,
  "metadata": {
    "colab": {
      "provenance": []
    },
    "kernelspec": {
      "name": "python3",
      "display_name": "Python 3"
    },
    "language_info": {
      "name": "python"
    }
  },
  "cells": [
    {
      "cell_type": "code",
      "execution_count": null,
      "metadata": {
        "id": "8oEVMRNwQAcV"
      },
      "outputs": [],
      "source": [
        "import gym\n",
        "import numpy as np\n",
        "\n",
        "# Buat lingkungan FrozenLake\n",
        "env = gym.make('FrozenLake-v1', is_slippery=True)\n"
      ]
    },
    {
      "cell_type": "code",
      "source": [
        "# Parameter Q-Learning\n",
        "initial_learning_rate = 1.0\n",
        "min_learning_rate = 0.003\n",
        "decay_rate = 0.005\n",
        "discount_factor = 0.99\n",
        "epsilon = 1.0\n",
        "min_epsilon = 0.1\n",
        "epsilon_decay = 0.995\n",
        "\n",
        "# Inisialisasi tabel Q\n",
        "Q = np.zeros((env.observation_space.n, env.action_space.n))\n",
        "\n",
        "def choose_action(state):\n",
        "    if np.random.rand() < epsilon:\n",
        "        return env.action_space.sample()\n",
        "    else:\n",
        "        return np.argmax(Q[state])\n"
      ],
      "metadata": {
        "id": "9mto16MxQBMK"
      },
      "execution_count": null,
      "outputs": []
    },
    {
      "cell_type": "code",
      "source": [
        "def get_learning_rate(episode):\n",
        "    return max(min_learning_rate, min(initial_learning_rate, 1.0 - np.log10((episode + 1) * decay_rate)))\n",
        "\n",
        "# Fungsi untuk melatih agen\n",
        "num_episodes = 2000\n",
        "for episode in range(num_episodes):\n",
        "    state = env.reset()\n",
        "    done = False\n",
        "    while not done:\n",
        "        action = choose_action(state)\n",
        "        next_state, reward, done, _ = env.step(action)\n",
        "        best_next_action = np.argmax(Q[next_state])\n",
        "        td_target = reward + discount_factor * Q[next_state][best_next_action]\n",
        "        td_error = td_target - Q[state][action]\n",
        "        learning_rate = get_learning_rate(episode)\n",
        "        Q[state][action] += learning_rate * td_error\n",
        "        state = next_state\n",
        "    epsilon = max(min_epsilon, epsilon * epsilon_decay)\n"
      ],
      "metadata": {
        "id": "xqbKFkZ7QJ06"
      },
      "execution_count": null,
      "outputs": []
    },
    {
      "cell_type": "code",
      "source": [
        "# Fungsi untuk mengevaluasi agen\n",
        "def evaluate_agent(num_episodes=100):\n",
        "    total_rewards = 0\n",
        "    for episode in range(num_episodes):\n",
        "        state = env.reset()\n",
        "        done = False\n",
        "        while not done:\n",
        "            action = np.argmax(Q[state])\n",
        "            next_state, reward, done, _ = env.step(action)\n",
        "            total_rewards += reward\n",
        "            state = next_state\n",
        "    return total_rewards / num_episodes\n",
        "\n",
        "# Evaluasi agen\n",
        "print(f\"Rata-rata imbalan per episode: {evaluate_agent()}\")\n"
      ],
      "metadata": {
        "id": "7FE0lHHEQNOa"
      },
      "execution_count": null,
      "outputs": []
    },
    {
      "cell_type": "code",
      "source": [
        "# Visualisasi hasil pelatihan\n",
        "import matplotlib.pyplot as plt\n",
        "\n",
        "episodes = range(num_episodes)\n",
        "rewards = [evaluate_agent() for _ in episodes]\n",
        "\n",
        "plt.plot(episodes, rewards)\n",
        "plt.xlabel('Episode')\n",
        "plt.ylabel('Total Imbalan')\n",
        "plt.title('Total Imbalan per Episode')\n",
        "plt.show()"
      ],
      "metadata": {
        "id": "NPOCkfQSQOzk"
      },
      "execution_count": null,
      "outputs": []
    }
  ]
}